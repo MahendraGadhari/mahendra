{
 "cells": [
  {
   "cell_type": "code",
   "execution_count": 1,
   "id": "329e6cc6-ce3f-469c-91d1-195668782326",
   "metadata": {},
   "outputs": [
    {
     "name": "stdout",
     "output_type": "stream",
     "text": [
      "13\n"
     ]
    }
   ],
   "source": [
    "def findLength(string):\n",
    "    count = 0\n",
    "    for i in string:\n",
    "        count += 1\n",
    "    return count\n",
    "string = \"geeksforgeeks\"\n",
    "print(findLength(string))"
   ]
  },
  {
   "cell_type": "markdown",
   "id": "c4b68212-fc84-4613-9683-2dbbc0aea16b",
   "metadata": {},
   "source": [
    " ## write a function which will try to find out len of a string without using an inbuilt len function "
   ]
  },
  {
   "cell_type": "code",
   "execution_count": 2,
   "id": "a42c2e64-cdcf-471a-8e8c-0f4044b71310",
   "metadata": {},
   "outputs": [
    {
     "name": "stdin",
     "output_type": "stream",
     "text": [
      "string sdsadasjdjlsadsakdsak\n"
     ]
    },
    {
     "name": "stdout",
     "output_type": "stream",
     "text": [
      "21\n"
     ]
    }
   ],
   "source": [
    "def findLength(string):\n",
    "    count = 0\n",
    "    for i in string:\n",
    "        count=count+1\n",
    "    return count\n",
    "string = input(\"string\")\n",
    "print(findLength(string))"
   ]
  },
  {
   "cell_type": "code",
   "execution_count": 3,
   "id": "a58d6189-ffc1-4284-a4d6-a2aec03da81e",
   "metadata": {},
   "outputs": [],
   "source": [
    "string2=\"jsdj;kd;laKDSL;Ak;ldkaL;DKL\""
   ]
  },
  {
   "cell_type": "code",
   "execution_count": 4,
   "id": "cd0eb2d1-3d43-47b3-8ebf-bd1bc73a6b67",
   "metadata": {},
   "outputs": [
    {
     "data": {
      "text/plain": [
       "27"
      ]
     },
     "execution_count": 4,
     "metadata": {},
     "output_type": "execute_result"
    }
   ],
   "source": [
    "findLength(string2)"
   ]
  },
  {
   "cell_type": "markdown",
   "id": "eda2221e-8f71-4b8a-b68a-ae66c2309640",
   "metadata": {},
   "source": [
    " ### write a function which  will be able to print an index of list element without using an index function"
   ]
  },
  {
   "cell_type": "code",
   "execution_count": 9,
   "id": "5fb94e67-7568-4879-953e-1461e642d60a",
   "metadata": {},
   "outputs": [
    {
     "name": "stdout",
     "output_type": "stream",
     "text": [
      "0 10\n",
      "1 20\n",
      "2 30\n",
      "3 40\n",
      "None\n"
     ]
    }
   ],
   "source": [
    "def findindex(mylist):\n",
    "    for i,j in enumerate(mylist):\n",
    "        print (i,j)\n",
    "mylist = [10,20,30,40]\n",
    "print(findindex(mylist))"
   ]
  },
  {
   "cell_type": "code",
   "execution_count": 10,
   "id": "1b3b9e5f-f46c-432e-99bd-569de12ffa9e",
   "metadata": {},
   "outputs": [],
   "source": [
    "list1 =[\"a\",\"b\",'c','d','e','f','g','h']"
   ]
  },
  {
   "cell_type": "code",
   "execution_count": 11,
   "id": "843dfde7-4b5b-4181-813f-37eb3ce8525a",
   "metadata": {},
   "outputs": [
    {
     "name": "stdout",
     "output_type": "stream",
     "text": [
      "0 a\n",
      "1 b\n",
      "2 c\n",
      "3 d\n",
      "4 e\n",
      "5 f\n",
      "6 g\n",
      "7 h\n"
     ]
    }
   ],
   "source": [
    "findindex(list1)"
   ]
  },
  {
   "cell_type": "markdown",
   "id": "39faed1e-10da-4293-8e2e-e6ce529e2962",
   "metadata": {},
   "source": [
    "### write a function which will take input as a list with any kind of numeric value and give an out as a multiplication of \n",
    "all the numeric data l = [3.5, 6.56, 4,5,\"sudh\" , \"ineuron\" , 'fsda bootcamp 2.0']"
   ]
  },
  {
   "cell_type": "code",
   "execution_count": 15,
   "id": "3ab3aa3d-f4ae-447f-880e-54a1a58fb496",
   "metadata": {},
   "outputs": [
    {
     "name": "stdout",
     "output_type": "stream",
     "text": [
      "22041.6\n"
     ]
    }
   ],
   "source": [
    "list=[3.5, 6.56, 4,5,6,8,\"sudh\",\"mahi\"]\n",
    "def findmult(list):\n",
    "    result = 1\n",
    "    for i in list:\n",
    "        if type(i) is int or type(i) is float:\n",
    "            result=result*i\n",
    "    return result\n",
    "print(findmult(list))"
   ]
  },
  {
   "cell_type": "code",
   "execution_count": 13,
   "id": "102ffc59-4777-439c-8be6-0edc098e7bf9",
   "metadata": {},
   "outputs": [],
   "source": [
    "list12=[3.5, 6.56, 4,5,\"sudh\" , \"ineuron\" , 'fsda bootcamp 2.0']"
   ]
  },
  {
   "cell_type": "code",
   "execution_count": 16,
   "id": "bfa08426-7180-4290-8b16-d800b9f20f1f",
   "metadata": {},
   "outputs": [
    {
     "data": {
      "text/plain": [
       "459.19999999999993"
      ]
     },
     "execution_count": 16,
     "metadata": {},
     "output_type": "execute_result"
    }
   ],
   "source": [
    "findmult(list12)"
   ]
  },
  {
   "cell_type": "code",
   "execution_count": null,
   "id": "01880069-8536-4a18-ad96-e39f3fcac9ac",
   "metadata": {},
   "outputs": [],
   "source": []
  }
 ],
 "metadata": {
  "kernelspec": {
   "display_name": "Python 3 (ipykernel)",
   "language": "python",
   "name": "python3"
  },
  "language_info": {
   "codemirror_mode": {
    "name": "ipython",
    "version": 3
   },
   "file_extension": ".py",
   "mimetype": "text/x-python",
   "name": "python",
   "nbconvert_exporter": "python",
   "pygments_lexer": "ipython3",
   "version": "3.9.12"
  }
 },
 "nbformat": 4,
 "nbformat_minor": 5
}
